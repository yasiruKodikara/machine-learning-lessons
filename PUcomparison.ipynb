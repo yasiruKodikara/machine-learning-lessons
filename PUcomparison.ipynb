{
  "nbformat": 4,
  "nbformat_minor": 0,
  "metadata": {
    "colab": {
      "provenance": [],
      "gpuType": "T4",
      "authorship_tag": "ABX9TyPnOPrBMKUzywZ75WzcxuYP",
      "include_colab_link": true
    },
    "kernelspec": {
      "name": "python3",
      "display_name": "Python 3"
    },
    "language_info": {
      "name": "python"
    },
    "accelerator": "GPU"
  },
  "cells": [
    {
      "cell_type": "markdown",
      "metadata": {
        "id": "view-in-github",
        "colab_type": "text"
      },
      "source": [
        "<a href=\"https://colab.research.google.com/github/yasiruKodikara/machine-learning-lessons/blob/main/PUcomparison.ipynb\" target=\"_parent\"><img src=\"https://colab.research.google.com/assets/colab-badge.svg\" alt=\"Open In Colab\"/></a>"
      ]
    },
    {
      "cell_type": "markdown",
      "source": [
        "# Using numpy arrays"
      ],
      "metadata": {
        "id": "v_g-gSuveSlo"
      }
    },
    {
      "cell_type": "code",
      "execution_count": null,
      "metadata": {
        "id": "DoJpign8bVQD"
      },
      "outputs": [],
      "source": [
        "import numpy as np\n",
        "import tensorflow as tf\n"
      ]
    },
    {
      "cell_type": "code",
      "source": [
        "import time"
      ],
      "metadata": {
        "id": "E5RiGIUkbhEK"
      },
      "execution_count": null,
      "outputs": []
    },
    {
      "cell_type": "code",
      "source": [
        "tf.test.gpu_device_name()"
      ],
      "metadata": {
        "colab": {
          "base_uri": "https://localhost:8080/",
          "height": 35
        },
        "id": "cW-qvPXQboRP",
        "outputId": "8f72034e-6d44-4584-b297-3f9a185c856a"
      },
      "execution_count": null,
      "outputs": [
        {
          "output_type": "execute_result",
          "data": {
            "text/plain": [
              "'/device:GPU:0'"
            ],
            "application/vnd.google.colaboratory.intrinsic+json": {
              "type": "string"
            }
          },
          "metadata": {},
          "execution_count": 4
        }
      ]
    },
    {
      "cell_type": "code",
      "source": [
        "shape = 5000"
      ],
      "metadata": {
        "id": "ofFX2Uknb7jm"
      },
      "execution_count": null,
      "outputs": []
    },
    {
      "cell_type": "code",
      "source": [
        "np1 = np.random.uniform(size=[shape,shape])"
      ],
      "metadata": {
        "id": "EkFz3a4vbuZy"
      },
      "execution_count": null,
      "outputs": []
    },
    {
      "cell_type": "code",
      "source": [
        "start = time.time()\n",
        "\n",
        "for i in range(10):\n",
        "  np.matmul(np1,np1)\n",
        "\n",
        "end = time.time()\n",
        "\n",
        "time_period = end-start\n",
        "print(f'time period = {time_period} sec')"
      ],
      "metadata": {
        "colab": {
          "base_uri": "https://localhost:8080/"
        },
        "id": "tYHl0Pt-cFco",
        "outputId": "b2fae86a-8fce-4147-b506-d6d3c09e5ece"
      },
      "execution_count": null,
      "outputs": [
        {
          "output_type": "stream",
          "name": "stdout",
          "text": [
            "time period = 70.03147864341736 sec\n"
          ]
        }
      ]
    },
    {
      "cell_type": "markdown",
      "source": [
        "# Using Tensors\n"
      ],
      "metadata": {
        "id": "GdSY4MpRc9Gy"
      }
    },
    {
      "cell_type": "code",
      "source": [
        "tf_array = tf.random.uniform(shape=[shape,shape])"
      ],
      "metadata": {
        "id": "z6xRJ_dSdALU"
      },
      "execution_count": null,
      "outputs": []
    },
    {
      "cell_type": "code",
      "source": [
        "start = time.time()\n",
        "\n",
        "for i in range(10):\n",
        "  tf.matmul(tf_array,tf_array)\n",
        "\n",
        "end = time.time()\n",
        "\n",
        "time_period = end-start\n",
        "print(f'time period = {time_period} sec')"
      ],
      "metadata": {
        "colab": {
          "base_uri": "https://localhost:8080/"
        },
        "id": "mYQo6h3AdYhp",
        "outputId": "9b6427d0-46c7-4686-9e63-4eac71c46bc6"
      },
      "execution_count": null,
      "outputs": [
        {
          "output_type": "stream",
          "name": "stdout",
          "text": [
            "time period = 0.12691402435302734 sec\n"
          ]
        }
      ]
    }
  ]
}